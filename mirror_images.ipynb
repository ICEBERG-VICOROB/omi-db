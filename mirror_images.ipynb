{
 "cells": [
  {
   "cell_type": "markdown",
   "metadata": {},
   "source": [
    "# mirror_images"
   ]
  },
  {
   "cell_type": "markdown",
   "metadata": {},
   "source": [
    "This code takes the images oriented to the right and changes their direction, so that all the images are oriented to the left, which is useful for a better functioning of the model"
   ]
  },
  {
   "cell_type": "code",
   "execution_count": null,
   "metadata": {},
   "outputs": [],
   "source": [
    "import os\n",
    "import cv2\n",
    "\n",
    "reading_path = '/home/pablo/Desktop/OPTIMAM/GE_linear/images'\n",
    "output_path = 'images_GE_linear_mirror'\n",
    "\n",
    "for i in os.listdir(reading_path):\n",
    "    if 'R' in i:\n",
    "        img = cv2.imread(reading_path + '/' + i)\n",
    "        image_mirror = cv2.flip(img, 1)\n",
    "        aux_folder = output_path + \"/\" + i\n",
    "        cv2.imwrite(aux_folder, image_mirror)\n",
    "    else:\n",
    "        img = cv2.imread(reading_path + '/' + i)\n",
    "        aux_folder = output_path + \"/\" + i\n",
    "        cv2.imwrite(aux_folder, img)"
   ]
  }
 ],
 "metadata": {
  "kernelspec": {
   "display_name": "Python 3",
   "language": "python",
   "name": "python3"
  },
  "language_info": {
   "codemirror_mode": {
    "name": "ipython",
    "version": 3
   },
   "file_extension": ".py",
   "mimetype": "text/x-python",
   "name": "python",
   "nbconvert_exporter": "python",
   "pygments_lexer": "ipython3",
   "version": "3.7.9"
  }
 },
 "nbformat": 4,
 "nbformat_minor": 4
}
